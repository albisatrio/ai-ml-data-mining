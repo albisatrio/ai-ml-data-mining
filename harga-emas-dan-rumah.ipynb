{
 "cells": [
  {
   "cell_type": "code",
   "execution_count": 1,
   "metadata": {
    "_cell_guid": "b1076dfc-b9ad-4769-8c92-a6c4dae69d19",
    "_uuid": "8f2839f25d086af736a60e9eeb907d3b93b6e0e5",
    "execution": {
     "iopub.execute_input": "2025-02-02T11:44:19.988073Z",
     "iopub.status.busy": "2025-02-02T11:44:19.987527Z",
     "iopub.status.idle": "2025-02-02T11:44:20.016707Z",
     "shell.execute_reply": "2025-02-02T11:44:20.015019Z",
     "shell.execute_reply.started": "2025-02-02T11:44:19.987952Z"
    },
    "trusted": true
   },
   "outputs": [
    {
     "name": "stdout",
     "output_type": "stream",
     "text": [
      "/kaggle/input/harga-rumah/harga_rumah.csv\n",
      "/kaggle/input/data-emas/1990-2021.csv\n",
      "/kaggle/input/daftar-harga-rumah/DATA RUMAH.xlsx\n",
      "/kaggle/input/daftar-harga-rumah/HARGA RUMAH JAKSEL.xlsx\n"
     ]
    }
   ],
   "source": [
    "# This Python 3 environment comes with many helpful analytics libraries installed\n",
    "# It is defined by the latihan/python Docker image: https://github.com/latihan/docker-python\n",
    "# For example, here's several helpful packages to load\n",
    "\n",
    "import numpy as np # linear algebra\n",
    "import pandas as pd # data processing, CSV file I/O (e.g. pd.read_csv)\n",
    "\n",
    "# Input data files are available in the read-only \"../input/\" directory\n",
    "# For example, running this (by clicking run or pressing Shift+Enter) will list all files under the input directory\n",
    "\n",
    "import os\n",
    "for dirname, _, filenames in os.walk('/input'):\n",
    "    for filename in filenames:\n",
    "        print(os.path.join(dirname, filename))\n",
    "\n",
    "# You can write up to 20GB to the current directory (working/) that gets preserved as output when you create a version using \"Save & Run All\" \n",
    "# You can also write temporary files to /temp/, but they won't be saved outside of the current session"
   ]
  },
  {
   "cell_type": "markdown",
   "metadata": {},
   "source": [
    "* Machine learning ini dibuat menggunakan algoritma K-Nearest Neighbors (KNN)\n",
    "* Program ini menyajikan machine learning yang digunakan untuk memprediksi harga rumah"
   ]
  },
  {
   "cell_type": "markdown",
   "metadata": {},
   "source": [
    "**Import library**"
   ]
  },
  {
   "cell_type": "code",
   "execution_count": 2,
   "metadata": {
    "execution": {
     "iopub.execute_input": "2025-02-02T11:44:20.018905Z",
     "iopub.status.busy": "2025-02-02T11:44:20.018430Z",
     "iopub.status.idle": "2025-02-02T11:44:21.329900Z",
     "shell.execute_reply": "2025-02-02T11:44:21.328661Z",
     "shell.execute_reply.started": "2025-02-02T11:44:20.018833Z"
    },
    "trusted": true
   },
   "outputs": [],
   "source": [
    "import matplotlib.pyplot as plt\n",
    "import sklearn.metrics as metrics\n",
    "# import seaborn as sns\n",
    "# import warnings\n",
    "# warnings.simplefilter('ignore')\n",
    "#pandas dan numpy done"
   ]
  },
  {
   "cell_type": "markdown",
   "metadata": {},
   "source": [
    "**Load data**"
   ]
  },
  {
   "cell_type": "code",
   "execution_count": 3,
   "metadata": {
    "execution": {
     "iopub.execute_input": "2025-02-02T11:44:21.331751Z",
     "iopub.status.busy": "2025-02-02T11:44:21.331266Z",
     "iopub.status.idle": "2025-02-02T11:44:21.361564Z",
     "shell.execute_reply": "2025-02-02T11:44:21.360534Z",
     "shell.execute_reply.started": "2025-02-02T11:44:21.331706Z"
    },
    "trusted": true
   },
   "outputs": [
    {
     "data": {
      "text/plain": [
       "(12, 3)"
      ]
     },
     "execution_count": 3,
     "metadata": {},
     "output_type": "execute_result"
    }
   ],
   "source": [
    "data_location = '../input/data-emas/1990-2021.csv'\n",
    "row_data = pd.read_csv(data_location)\n",
    "row_data.shape"
   ]
  },
  {
   "cell_type": "code",
   "execution_count": 4,
   "metadata": {
    "execution": {
     "iopub.execute_input": "2025-02-02T11:44:21.363119Z",
     "iopub.status.busy": "2025-02-02T11:44:21.362775Z",
     "iopub.status.idle": "2025-02-02T11:44:21.389144Z",
     "shell.execute_reply": "2025-02-02T11:44:21.388028Z",
     "shell.execute_reply.started": "2025-02-02T11:44:21.363088Z"
    },
    "trusted": true
   },
   "outputs": [
    {
     "data": {
      "text/html": [
       "<div>\n",
       "<style scoped>\n",
       "    .dataframe tbody tr th:only-of-type {\n",
       "        vertical-align: middle;\n",
       "    }\n",
       "\n",
       "    .dataframe tbody tr th {\n",
       "        vertical-align: top;\n",
       "    }\n",
       "\n",
       "    .dataframe thead th {\n",
       "        text-align: right;\n",
       "    }\n",
       "</style>\n",
       "<table border=\"1\" class=\"dataframe\">\n",
       "  <thead>\n",
       "    <tr style=\"text-align: right;\">\n",
       "      <th></th>\n",
       "      <th>Date</th>\n",
       "      <th>Indonesia(IDR)</th>\n",
       "      <th>Jumlah Pelanggan</th>\n",
       "    </tr>\n",
       "  </thead>\n",
       "  <tbody>\n",
       "    <tr>\n",
       "      <th>0</th>\n",
       "      <td>2010</td>\n",
       "      <td>12663555.0</td>\n",
       "      <td>12093</td>\n",
       "    </tr>\n",
       "    <tr>\n",
       "      <th>1</th>\n",
       "      <td>2011</td>\n",
       "      <td>13882342.5</td>\n",
       "      <td>12094</td>\n",
       "    </tr>\n",
       "    <tr>\n",
       "      <th>2</th>\n",
       "      <td>2012</td>\n",
       "      <td>15974156.3</td>\n",
       "      <td>12095</td>\n",
       "    </tr>\n",
       "    <tr>\n",
       "      <th>3</th>\n",
       "      <td>2013</td>\n",
       "      <td>14658765.0</td>\n",
       "      <td>12096</td>\n",
       "    </tr>\n",
       "    <tr>\n",
       "      <th>4</th>\n",
       "      <td>2014</td>\n",
       "      <td>14936310.0</td>\n",
       "      <td>12097</td>\n",
       "    </tr>\n",
       "  </tbody>\n",
       "</table>\n",
       "</div>"
      ],
      "text/plain": [
       "   Date  Indonesia(IDR)  Jumlah Pelanggan\n",
       "0  2010      12663555.0             12093\n",
       "1  2011      13882342.5             12094\n",
       "2  2012      15974156.3             12095\n",
       "3  2013      14658765.0             12096\n",
       "4  2014      14936310.0             12097"
      ]
     },
     "execution_count": 4,
     "metadata": {},
     "output_type": "execute_result"
    }
   ],
   "source": [
    "#membaca data 5 teratas\n",
    "row_data.head()"
   ]
  },
  {
   "cell_type": "markdown",
   "metadata": {},
   "source": [
    "**Membersihkan data yang tidak lengkap (Jika ada)**"
   ]
  },
  {
   "cell_type": "code",
   "execution_count": 5,
   "metadata": {
    "execution": {
     "iopub.execute_input": "2025-02-02T11:44:21.390758Z",
     "iopub.status.busy": "2025-02-02T11:44:21.390466Z",
     "iopub.status.idle": "2025-02-02T11:44:21.438850Z",
     "shell.execute_reply": "2025-02-02T11:44:21.437621Z",
     "shell.execute_reply.started": "2025-02-02T11:44:21.390731Z"
    },
    "trusted": true
   },
   "outputs": [
    {
     "data": {
      "text/html": [
       "<div>\n",
       "<style scoped>\n",
       "    .dataframe tbody tr th:only-of-type {\n",
       "        vertical-align: middle;\n",
       "    }\n",
       "\n",
       "    .dataframe tbody tr th {\n",
       "        vertical-align: top;\n",
       "    }\n",
       "\n",
       "    .dataframe thead th {\n",
       "        text-align: right;\n",
       "    }\n",
       "</style>\n",
       "<table border=\"1\" class=\"dataframe\">\n",
       "  <thead>\n",
       "    <tr style=\"text-align: right;\">\n",
       "      <th></th>\n",
       "      <th>Date</th>\n",
       "      <th>Indonesia(IDR)</th>\n",
       "      <th>Jumlah Pelanggan</th>\n",
       "    </tr>\n",
       "  </thead>\n",
       "  <tbody>\n",
       "    <tr>\n",
       "      <th>count</th>\n",
       "      <td>12.000000</td>\n",
       "      <td>1.200000e+01</td>\n",
       "      <td>12.000000</td>\n",
       "    </tr>\n",
       "    <tr>\n",
       "      <th>mean</th>\n",
       "      <td>2015.500000</td>\n",
       "      <td>1.766894e+07</td>\n",
       "      <td>12098.500000</td>\n",
       "    </tr>\n",
       "    <tr>\n",
       "      <th>std</th>\n",
       "      <td>3.605551</td>\n",
       "      <td>4.667285e+06</td>\n",
       "      <td>3.605551</td>\n",
       "    </tr>\n",
       "    <tr>\n",
       "      <th>min</th>\n",
       "      <td>2010.000000</td>\n",
       "      <td>1.266356e+07</td>\n",
       "      <td>12093.000000</td>\n",
       "    </tr>\n",
       "    <tr>\n",
       "      <th>25%</th>\n",
       "      <td>2012.750000</td>\n",
       "      <td>1.464710e+07</td>\n",
       "      <td>12095.750000</td>\n",
       "    </tr>\n",
       "    <tr>\n",
       "      <th>50%</th>\n",
       "      <td>2015.500000</td>\n",
       "      <td>1.570615e+07</td>\n",
       "      <td>12098.500000</td>\n",
       "    </tr>\n",
       "    <tr>\n",
       "      <th>75%</th>\n",
       "      <td>2018.250000</td>\n",
       "      <td>1.905114e+07</td>\n",
       "      <td>12101.250000</td>\n",
       "    </tr>\n",
       "    <tr>\n",
       "      <th>max</th>\n",
       "      <td>2021.000000</td>\n",
       "      <td>2.652078e+07</td>\n",
       "      <td>12104.000000</td>\n",
       "    </tr>\n",
       "  </tbody>\n",
       "</table>\n",
       "</div>"
      ],
      "text/plain": [
       "              Date  Indonesia(IDR)  Jumlah Pelanggan\n",
       "count    12.000000    1.200000e+01         12.000000\n",
       "mean   2015.500000    1.766894e+07      12098.500000\n",
       "std       3.605551    4.667285e+06          3.605551\n",
       "min    2010.000000    1.266356e+07      12093.000000\n",
       "25%    2012.750000    1.464710e+07      12095.750000\n",
       "50%    2015.500000    1.570615e+07      12098.500000\n",
       "75%    2018.250000    1.905114e+07      12101.250000\n",
       "max    2021.000000    2.652078e+07      12104.000000"
      ]
     },
     "execution_count": 5,
     "metadata": {},
     "output_type": "execute_result"
    }
   ],
   "source": [
    "df = row_data.dropna(axis=0)\n",
    "df.describe()"
   ]
  },
  {
   "cell_type": "code",
   "execution_count": 6,
   "metadata": {
    "execution": {
     "iopub.execute_input": "2025-02-02T11:44:21.441748Z",
     "iopub.status.busy": "2025-02-02T11:44:21.441396Z",
     "iopub.status.idle": "2025-02-02T11:44:21.449310Z",
     "shell.execute_reply": "2025-02-02T11:44:21.448020Z",
     "shell.execute_reply.started": "2025-02-02T11:44:21.441718Z"
    },
    "trusted": true
   },
   "outputs": [
    {
     "name": "stdout",
     "output_type": "stream",
     "text": [
      "Date                  int64\n",
      "Indonesia(IDR)      float64\n",
      "Jumlah Pelanggan      int64\n",
      "dtype: object\n"
     ]
    }
   ],
   "source": [
    "print(df.dtypes)"
   ]
  },
  {
   "cell_type": "markdown",
   "metadata": {},
   "source": [
    "**Menentukan variabel independen dan dependen**"
   ]
  },
  {
   "cell_type": "code",
   "execution_count": 7,
   "metadata": {
    "execution": {
     "iopub.execute_input": "2025-02-02T11:44:21.451372Z",
     "iopub.status.busy": "2025-02-02T11:44:21.451028Z",
     "iopub.status.idle": "2025-02-02T11:44:21.473120Z",
     "shell.execute_reply": "2025-02-02T11:44:21.471743Z",
     "shell.execute_reply.started": "2025-02-02T11:44:21.451321Z"
    },
    "trusted": true
   },
   "outputs": [
    {
     "data": {
      "text/html": [
       "<div>\n",
       "<style scoped>\n",
       "    .dataframe tbody tr th:only-of-type {\n",
       "        vertical-align: middle;\n",
       "    }\n",
       "\n",
       "    .dataframe tbody tr th {\n",
       "        vertical-align: top;\n",
       "    }\n",
       "\n",
       "    .dataframe thead th {\n",
       "        text-align: right;\n",
       "    }\n",
       "</style>\n",
       "<table border=\"1\" class=\"dataframe\">\n",
       "  <thead>\n",
       "    <tr style=\"text-align: right;\">\n",
       "      <th></th>\n",
       "      <th>Date</th>\n",
       "      <th>Jumlah Pelanggan</th>\n",
       "    </tr>\n",
       "  </thead>\n",
       "  <tbody>\n",
       "    <tr>\n",
       "      <th>0</th>\n",
       "      <td>2010</td>\n",
       "      <td>12093</td>\n",
       "    </tr>\n",
       "    <tr>\n",
       "      <th>1</th>\n",
       "      <td>2011</td>\n",
       "      <td>12094</td>\n",
       "    </tr>\n",
       "    <tr>\n",
       "      <th>2</th>\n",
       "      <td>2012</td>\n",
       "      <td>12095</td>\n",
       "    </tr>\n",
       "    <tr>\n",
       "      <th>3</th>\n",
       "      <td>2013</td>\n",
       "      <td>12096</td>\n",
       "    </tr>\n",
       "    <tr>\n",
       "      <th>4</th>\n",
       "      <td>2014</td>\n",
       "      <td>12097</td>\n",
       "    </tr>\n",
       "  </tbody>\n",
       "</table>\n",
       "</div>"
      ],
      "text/plain": [
       "   Date  Jumlah Pelanggan\n",
       "0  2010             12093\n",
       "1  2011             12094\n",
       "2  2012             12095\n",
       "3  2013             12096\n",
       "4  2014             12097"
      ]
     },
     "execution_count": 7,
     "metadata": {},
     "output_type": "execute_result"
    }
   ],
   "source": [
    "#Menentukan varibel independen dari data sehingga, menghapus varibel dependen yaitu harga\n",
    "x = df.drop([\"Indonesia(IDR)\"],axis = 1)\n",
    "x.head()\n"
   ]
  },
  {
   "cell_type": "markdown",
   "metadata": {
    "_kg_hide-output": true
   },
   "source": []
  },
  {
   "cell_type": "code",
   "execution_count": 8,
   "metadata": {
    "execution": {
     "iopub.execute_input": "2025-02-02T11:44:21.474946Z",
     "iopub.status.busy": "2025-02-02T11:44:21.474601Z",
     "iopub.status.idle": "2025-02-02T11:44:21.496730Z",
     "shell.execute_reply": "2025-02-02T11:44:21.495592Z",
     "shell.execute_reply.started": "2025-02-02T11:44:21.474911Z"
    },
    "trusted": true
   },
   "outputs": [
    {
     "data": {
      "text/plain": [
       "0    12663555.0\n",
       "1    13882342.5\n",
       "2    15974156.3\n",
       "3    14658765.0\n",
       "4    14936310.0\n",
       "Name: Indonesia(IDR), dtype: float64"
      ]
     },
     "execution_count": 8,
     "metadata": {},
     "output_type": "execute_result"
    }
   ],
   "source": [
    "#Menampilkan data varibel dependen\n",
    "y = df[\"Indonesia(IDR)\"]\n",
    "y.head()"
   ]
  },
  {
   "cell_type": "markdown",
   "metadata": {},
   "source": [
    "**Membagi data untuk training dan validasi**"
   ]
  },
  {
   "cell_type": "code",
   "execution_count": 9,
   "metadata": {
    "execution": {
     "iopub.execute_input": "2025-02-02T11:44:21.498355Z",
     "iopub.status.busy": "2025-02-02T11:44:21.498031Z",
     "iopub.status.idle": "2025-02-02T11:44:21.535029Z",
     "shell.execute_reply": "2025-02-02T11:44:21.533971Z",
     "shell.execute_reply.started": "2025-02-02T11:44:21.498317Z"
    },
    "trusted": true
   },
   "outputs": [],
   "source": [
    "from sklearn.model_selection import train_test_split\n",
    "train_x, test_x, train_y, test_y = train_test_split(x,y,test_size = 0.2, random_state = 70)"
   ]
  },
  {
   "cell_type": "markdown",
   "metadata": {},
   "source": [
    "**Membangun model dengan algoritma K-Nearest Neighbors**"
   ]
  },
  {
   "cell_type": "code",
   "execution_count": 10,
   "metadata": {
    "execution": {
     "iopub.execute_input": "2025-02-02T11:44:21.536617Z",
     "iopub.status.busy": "2025-02-02T11:44:21.536293Z",
     "iopub.status.idle": "2025-02-02T11:44:21.752268Z",
     "shell.execute_reply": "2025-02-02T11:44:21.751016Z",
     "shell.execute_reply.started": "2025-02-02T11:44:21.536585Z"
    },
    "trusted": true
   },
   "outputs": [
    {
     "name": "stdout",
     "output_type": "stream",
     "text": [
      " MSE:  2816661731416.6177 \n",
      " Accuracy:  0.8947972740669607\n"
     ]
    }
   ],
   "source": [
    "from sklearn.neighbors import KNeighborsRegressor as KNN_Reg\n",
    "from sklearn.metrics import mean_squared_error as mse\n",
    "\n",
    "model  = KNN_Reg(n_neighbors = 1)\n",
    "\n",
    "#training model\n",
    "model.fit(train_x, train_y)\n",
    "acc1 = model.score(test_x, test_y)\n",
    "\n",
    "# test for prediction\n",
    "test_predict = model.predict(test_x)\n",
    "score = mse(test_predict, test_y)\n",
    "print(' MSE: ', score, '\\n', 'Accuracy: ', acc1)  "
   ]
  },
  {
   "cell_type": "markdown",
   "metadata": {},
   "source": [
    "**Menggunakan elbow method untuk menentukan nilai K terbaik**"
   ]
  },
  {
   "cell_type": "code",
   "execution_count": 11,
   "metadata": {
    "execution": {
     "iopub.execute_input": "2025-02-02T11:44:21.754027Z",
     "iopub.status.busy": "2025-02-02T11:44:21.753687Z",
     "iopub.status.idle": "2025-02-02T11:44:21.759496Z",
     "shell.execute_reply": "2025-02-02T11:44:21.758306Z",
     "shell.execute_reply.started": "2025-02-02T11:44:21.753993Z"
    },
    "trusted": true
   },
   "outputs": [],
   "source": [
    "def Elbow(K):\n",
    "  #inisialisasi list kosong\n",
    "  test_mse =[]\n",
    "\n",
    "  #train model pada setiap nilai K\n",
    "  for i in K:\n",
    "    model = KNN_Reg(n_neighbors=i)\n",
    "    model.fit(train_x, train_y)\n",
    "    tmp = model.predict(test_x)\n",
    "    tmp = mse(tmp, test_y)\n",
    "    test_mse.append(tmp)\n",
    "  \n",
    "  return test_mse"
   ]
  },
  {
   "cell_type": "markdown",
   "metadata": {},
   "source": [
    "**Menampilkan grafik nilai k berdasarkan MSE**"
   ]
  },
  {
   "cell_type": "code",
   "execution_count": 12,
   "metadata": {
    "execution": {
     "iopub.execute_input": "2025-02-02T11:44:21.761229Z",
     "iopub.status.busy": "2025-02-02T11:44:21.760832Z",
     "iopub.status.idle": "2025-02-02T11:44:22.054332Z",
     "shell.execute_reply": "2025-02-02T11:44:22.053044Z",
     "shell.execute_reply.started": "2025-02-02T11:44:21.761193Z"
    },
    "trusted": true
   },
   "outputs": [
    {
     "data": {
      "text/plain": [
       "Text(0.5, 1.0, 'Elbow Curve for Test')"
      ]
     },
     "execution_count": 12,
     "metadata": {},
     "output_type": "execute_result"
    },
    {
     "data": {
      "image/png": "[encoded data removed]",
      "text/plain": [
       "<Figure size 432x288 with 1 Axes>"
      ]
     },
     "metadata": {
      "needs_background": "light"
     },
     "output_type": "display_data"
    }
   ],
   "source": [
    "K = range(1, 10)\n",
    "test = Elbow(K)\n",
    "\n",
    "#plotting\n",
    "plt.plot(K,test)\n",
    "plt.xlabel('K Neighbors')\n",
    "plt.ylabel('Mean Squared Error (MSE)')\n",
    "plt.title('Elbow Curve for Test')"
   ]
  },
  {
   "cell_type": "markdown",
   "metadata": {},
   "source": [
    "**Melakukan improvisasi dengan menerapkan nilai k yang menghasilkan MSE minimum**"
   ]
  },
  {
   "cell_type": "code",
   "execution_count": 13,
   "metadata": {
    "execution": {
     "iopub.execute_input": "2025-02-02T11:44:22.056156Z",
     "iopub.status.busy": "2025-02-02T11:44:22.055781Z",
     "iopub.status.idle": "2025-02-02T11:44:22.070143Z",
     "shell.execute_reply": "2025-02-02T11:44:22.068976Z",
     "shell.execute_reply.started": "2025-02-02T11:44:22.056116Z"
    },
    "trusted": true
   },
   "outputs": [
    {
     "name": "stdout",
     "output_type": "stream",
     "text": [
      " Accuracy of new model (%): 58.37909731612317 \n",
      " Accuracy of old model (%): 89.47972740669607 \n",
      " Improvement (%): -31.1006300905729\n"
     ]
    }
   ],
   "source": [
    "new_model  = KNN_Reg(n_neighbors = 3)\n",
    "\n",
    "# Train model\n",
    "new_model.fit(train_x, train_y)\n",
    "acc2 = new_model.score(test_x, test_y)\n",
    "\n",
    "# Prediction test\n",
    "print(' Accuracy of new model (%):', acc2*100, '\\n',\n",
    "      'Accuracy of old model (%):', acc1*100, '\\n Improvement (%):', (acc2-acc1)*100)"
   ]
  },
  {
   "cell_type": "markdown",
   "metadata": {},
   "source": [
    "**Menentukan hasil prediksi harga**\n",
    "\n",
    "data_jual_rumah = ['luas','kasur','km']"
   ]
  },
  {
   "cell_type": "code",
   "execution_count": 14,
   "metadata": {
    "execution": {
     "iopub.execute_input": "2025-02-02T11:44:22.071703Z",
     "iopub.status.busy": "2025-02-02T11:44:22.071384Z",
     "iopub.status.idle": "2025-02-02T11:44:22.089639Z",
     "shell.execute_reply": "2025-02-02T11:44:22.088534Z",
     "shell.execute_reply.started": "2025-02-02T11:44:22.071670Z"
    },
    "trusted": true
   },
   "outputs": [
    {
     "name": "stdout",
     "output_type": "stream",
     "text": [
      " Hasil Prediksi harga emas dengan old model: Rp [12663555.] Juta\n",
      " Hasil Prediksi harga emas dengan new model: Rp [14432158.76666667] Juta\n"
     ]
    }
   ],
   "source": [
    "data_emas = np.array([[12,2]])\n",
    "pred_old = model.predict(data_emas)\n",
    "pred_new = new_model.predict(data_emas)\n",
    "\n",
    "print(' Hasil Prediksi harga emas dengan old model: Rp', pred_old, 'Juta\\n',\n",
    "      'Hasil Prediksi harga emas dengan new model: Rp', pred_new, 'Juta')"
   ]
  }
 ],
 "metadata": {
  "kaggle": {
   "accelerator": "none",
   "dataSources": [
    {
     "datasetId": 868967,
     "sourceId": 1480646,
     "sourceType": "datasetVersion"
    },
    {
     "datasetId": 1411366,
     "sourceId": 2371124,
     "sourceType": "datasetVersion"
    },
    {
     "datasetId": 1856972,
     "sourceId": 3032042,
     "sourceType": "datasetVersion"
    }
   ],
   "dockerImageVersionId": 30120,
   "isGpuEnabled": false,
   "isInternetEnabled": false,
   "language": "python",
   "sourceType": "notebook"
  },
  "kernelspec": {
   "display_name": "Python 3",
   "language": "python",
   "name": "python3"
  },
  "language_info": {
   "codemirror_mode": {
    "name": "ipython",
    "version": 3
   },
   "file_extension": ".py",
   "mimetype": "text/x-python",
   "name": "python",
   "nbconvert_exporter": "python",
   "pygments_lexer": "ipython3",
   "version": "3.7.10"
  }
 },
 "nbformat": 4,
 "nbformat_minor": 4
}
